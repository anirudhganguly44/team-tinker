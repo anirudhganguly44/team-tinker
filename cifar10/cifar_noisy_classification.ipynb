{
  "nbformat": 4,
  "nbformat_minor": 0,
  "metadata": {
    "colab": {
      "name": "cifar_noisy_classification.ipynb",
      "provenance": []
    },
    "kernelspec": {
      "name": "python3",
      "display_name": "Python 3"
    },
    "language_info": {
      "name": "python"
    },
    "accelerator": "GPU"
  },
  "cells": [
    {
      "cell_type": "code",
      "metadata": {
        "id": "oxAwQlBGV9bm"
      },
      "source": [
        "import numpy as np\n",
        "import pandas as pd\n",
        "from keras.models import Sequential \n",
        "from keras.layers import Dense,Dropout,Flatten,Conv2D,MaxPooling2D\n",
        "from keras.constraints import maxnorm\n",
        "from keras.utils import np_utils \n",
        "from keras import backend as K \n",
        "import tensorflow as tf"
      ],
      "execution_count": 1,
      "outputs": []
    },
    {
      "cell_type": "code",
      "metadata": {
        "colab": {
          "base_uri": "https://localhost:8080/"
        },
        "id": "j3MYJncGWJpC",
        "outputId": "2bd0d6eb-0021-447b-8cd5-67f0040c7d7d"
      },
      "source": [
        "from keras.datasets import cifar10\n",
        "(X_train, y_train), (X_test, y_test) = cifar10.load_data()"
      ],
      "execution_count": 2,
      "outputs": [
        {
          "output_type": "stream",
          "text": [
            "Downloading data from https://www.cs.toronto.edu/~kriz/cifar-10-python.tar.gz\n",
            "170500096/170498071 [==============================] - 3s 0us/step\n",
            "170508288/170498071 [==============================] - 3s 0us/step\n"
          ],
          "name": "stdout"
        }
      ]
    },
    {
      "cell_type": "code",
      "metadata": {
        "id": "isW3AjT-WU6V"
      },
      "source": [
        "from random import seed\n",
        "from random import randint\n",
        "seed(1)\n",
        "\n",
        "for _ in range(5000):\n",
        "  i = randint(0, 50000)\n",
        "  new_val = randint(0, 9)\n",
        "  y_train[i] = new_val"
      ],
      "execution_count": 3,
      "outputs": []
    },
    {
      "cell_type": "code",
      "metadata": {
        "colab": {
          "base_uri": "https://localhost:8080/"
        },
        "id": "MOHiVz6KXmwj",
        "outputId": "c478258f-3eae-40f9-e98d-31ec534fd214"
      },
      "source": [
        "X_train = X_train.astype('float32')\n",
        "X_test = X_test.astype('float32')\n",
        "X_train = X_train / 255.0\n",
        "X_test = X_test / 255.0\n",
        "\n",
        "y_train = tf.keras.utils.to_categorical(y_train)\n",
        "y_test = tf.keras.utils.to_categorical(y_test)\n",
        "\n",
        "num_classes = y_train.shape[1]\n",
        "print('Number of classes: ' + str(num_classes))"
      ],
      "execution_count": 4,
      "outputs": [
        {
          "output_type": "stream",
          "text": [
            "Number of classes: 10\n"
          ],
          "name": "stdout"
        }
      ]
    },
    {
      "cell_type": "code",
      "metadata": {
        "id": "kbP0pyTA7CGw"
      },
      "source": [
        "model = Sequential()\n",
        "model.add(Conv2D(32, (3, 3), input_shape=(32,32,3), activation='relu', padding='same')) \n",
        "model.add(Dropout(0.2)) \n",
        "model.add(Conv2D(32, (3, 3), activation='relu', padding='same')) \n",
        "model.add(MaxPooling2D(pool_size=(2, 2))) \n",
        "model.add(Conv2D(64, (3, 3), activation='relu', padding='same')) \n",
        "model.add(Dropout(0.2)) \n",
        "model.add(Conv2D(64, (3, 3), activation='relu', padding='same')) \n",
        "model.add(MaxPooling2D(pool_size=(2, 2))) \n",
        "model.add(Conv2D(128, (3, 3), activation='relu', padding='same')) \n",
        "model.add(Dropout(0.2)) \n",
        "model.add(Conv2D(128, (3, 3), activation='relu', padding='same')) \n",
        "model.add(MaxPooling2D(pool_size=(2, 2))) \n",
        "model.add(Flatten()) \n",
        "model.add(Dropout(0.2)) \n",
        "model.add(Dense(1024, activation='relu', kernel_constraint=maxnorm(3))) \n",
        "model.add(Dropout(0.2)) \n",
        "model.add(Dense(512, activation='relu', kernel_constraint=maxnorm(3))) \n",
        "model.add(Dropout(0.2)) \n",
        "model.add(Dense(num_classes, activation='softmax'))"
      ],
      "execution_count": 5,
      "outputs": []
    },
    {
      "cell_type": "code",
      "metadata": {
        "colab": {
          "base_uri": "https://localhost:8080/"
        },
        "id": "7WZyAbuW7FTp",
        "outputId": "bfc77988-3e2f-4929-f0a0-41206f746bd0"
      },
      "source": [
        "print(model.summary())"
      ],
      "execution_count": 6,
      "outputs": [
        {
          "output_type": "stream",
          "text": [
            "Model: \"sequential\"\n",
            "_________________________________________________________________\n",
            "Layer (type)                 Output Shape              Param #   \n",
            "=================================================================\n",
            "conv2d (Conv2D)              (None, 32, 32, 32)        896       \n",
            "_________________________________________________________________\n",
            "dropout (Dropout)            (None, 32, 32, 32)        0         \n",
            "_________________________________________________________________\n",
            "conv2d_1 (Conv2D)            (None, 32, 32, 32)        9248      \n",
            "_________________________________________________________________\n",
            "max_pooling2d (MaxPooling2D) (None, 16, 16, 32)        0         \n",
            "_________________________________________________________________\n",
            "conv2d_2 (Conv2D)            (None, 16, 16, 64)        18496     \n",
            "_________________________________________________________________\n",
            "dropout_1 (Dropout)          (None, 16, 16, 64)        0         \n",
            "_________________________________________________________________\n",
            "conv2d_3 (Conv2D)            (None, 16, 16, 64)        36928     \n",
            "_________________________________________________________________\n",
            "max_pooling2d_1 (MaxPooling2 (None, 8, 8, 64)          0         \n",
            "_________________________________________________________________\n",
            "conv2d_4 (Conv2D)            (None, 8, 8, 128)         73856     \n",
            "_________________________________________________________________\n",
            "dropout_2 (Dropout)          (None, 8, 8, 128)         0         \n",
            "_________________________________________________________________\n",
            "conv2d_5 (Conv2D)            (None, 8, 8, 128)         147584    \n",
            "_________________________________________________________________\n",
            "max_pooling2d_2 (MaxPooling2 (None, 4, 4, 128)         0         \n",
            "_________________________________________________________________\n",
            "flatten (Flatten)            (None, 2048)              0         \n",
            "_________________________________________________________________\n",
            "dropout_3 (Dropout)          (None, 2048)              0         \n",
            "_________________________________________________________________\n",
            "dense (Dense)                (None, 1024)              2098176   \n",
            "_________________________________________________________________\n",
            "dropout_4 (Dropout)          (None, 1024)              0         \n",
            "_________________________________________________________________\n",
            "dense_1 (Dense)              (None, 512)               524800    \n",
            "_________________________________________________________________\n",
            "dropout_5 (Dropout)          (None, 512)               0         \n",
            "_________________________________________________________________\n",
            "dense_2 (Dense)              (None, 10)                5130      \n",
            "=================================================================\n",
            "Total params: 2,915,114\n",
            "Trainable params: 2,915,114\n",
            "Non-trainable params: 0\n",
            "_________________________________________________________________\n",
            "None\n"
          ],
          "name": "stdout"
        }
      ]
    },
    {
      "cell_type": "code",
      "metadata": {
        "colab": {
          "base_uri": "https://localhost:8080/"
        },
        "id": "KRiP3xcx7Iap",
        "outputId": "001c605b-e767-4c88-b9a2-2eb942ec7b29"
      },
      "source": [
        "model.compile(loss='categorical_crossentropy', optimizer=\"adam\", metrics=['accuracy'])\n",
        "model.fit(X_train, y_train, epochs=100, batch_size=128)"
      ],
      "execution_count": 7,
      "outputs": [
        {
          "output_type": "stream",
          "text": [
            "Epoch 1/100\n",
            "391/391 [==============================] - 50s 16ms/step - loss: 2.0156 - accuracy: 0.2545\n",
            "Epoch 2/100\n",
            "391/391 [==============================] - 6s 15ms/step - loss: 1.5160 - accuracy: 0.4846\n",
            "Epoch 3/100\n",
            "391/391 [==============================] - 6s 15ms/step - loss: 1.3327 - accuracy: 0.5710\n",
            "Epoch 4/100\n",
            "391/391 [==============================] - 6s 15ms/step - loss: 1.2048 - accuracy: 0.6226\n",
            "Epoch 5/100\n",
            "391/391 [==============================] - 6s 15ms/step - loss: 1.1031 - accuracy: 0.6602\n",
            "Epoch 6/100\n",
            "391/391 [==============================] - 6s 15ms/step - loss: 1.0559 - accuracy: 0.6827\n",
            "Epoch 7/100\n",
            "391/391 [==============================] - 6s 15ms/step - loss: 0.9909 - accuracy: 0.7047\n",
            "Epoch 8/100\n",
            "391/391 [==============================] - 6s 15ms/step - loss: 0.9368 - accuracy: 0.7240\n",
            "Epoch 9/100\n",
            "391/391 [==============================] - 6s 15ms/step - loss: 0.9057 - accuracy: 0.7357\n",
            "Epoch 10/100\n",
            "391/391 [==============================] - 6s 15ms/step - loss: 0.8579 - accuracy: 0.7471\n",
            "Epoch 11/100\n",
            "391/391 [==============================] - 6s 15ms/step - loss: 0.8156 - accuracy: 0.7630\n",
            "Epoch 12/100\n",
            "391/391 [==============================] - 6s 15ms/step - loss: 0.7682 - accuracy: 0.7752\n",
            "Epoch 13/100\n",
            "391/391 [==============================] - 6s 15ms/step - loss: 0.7206 - accuracy: 0.7868\n",
            "Epoch 14/100\n",
            "391/391 [==============================] - 6s 15ms/step - loss: 0.6876 - accuracy: 0.7944\n",
            "Epoch 15/100\n",
            "391/391 [==============================] - 6s 15ms/step - loss: 0.6487 - accuracy: 0.8047\n",
            "Epoch 16/100\n",
            "391/391 [==============================] - 6s 15ms/step - loss: 0.6318 - accuracy: 0.8061\n",
            "Epoch 17/100\n",
            "391/391 [==============================] - 6s 15ms/step - loss: 0.6040 - accuracy: 0.8125\n",
            "Epoch 18/100\n",
            "391/391 [==============================] - 6s 15ms/step - loss: 0.5703 - accuracy: 0.8201\n",
            "Epoch 19/100\n",
            "391/391 [==============================] - 6s 15ms/step - loss: 0.5522 - accuracy: 0.8269\n",
            "Epoch 20/100\n",
            "391/391 [==============================] - 6s 15ms/step - loss: 0.5157 - accuracy: 0.8367\n",
            "Epoch 21/100\n",
            "391/391 [==============================] - 6s 15ms/step - loss: 0.4991 - accuracy: 0.8422\n",
            "Epoch 22/100\n",
            "391/391 [==============================] - 6s 15ms/step - loss: 0.4898 - accuracy: 0.8441\n",
            "Epoch 23/100\n",
            "391/391 [==============================] - 6s 15ms/step - loss: 0.4590 - accuracy: 0.8526\n",
            "Epoch 24/100\n",
            "391/391 [==============================] - 6s 15ms/step - loss: 0.4520 - accuracy: 0.8554\n",
            "Epoch 25/100\n",
            "391/391 [==============================] - 6s 15ms/step - loss: 0.4343 - accuracy: 0.8602\n",
            "Epoch 26/100\n",
            "391/391 [==============================] - 6s 15ms/step - loss: 0.4356 - accuracy: 0.8598\n",
            "Epoch 27/100\n",
            "391/391 [==============================] - 6s 15ms/step - loss: 0.4052 - accuracy: 0.8683\n",
            "Epoch 28/100\n",
            "391/391 [==============================] - 6s 15ms/step - loss: 0.4007 - accuracy: 0.8696\n",
            "Epoch 29/100\n",
            "391/391 [==============================] - 6s 15ms/step - loss: 0.3808 - accuracy: 0.8773\n",
            "Epoch 30/100\n",
            "391/391 [==============================] - 6s 15ms/step - loss: 0.3785 - accuracy: 0.8771\n",
            "Epoch 31/100\n",
            "391/391 [==============================] - 6s 15ms/step - loss: 0.3724 - accuracy: 0.8807\n",
            "Epoch 32/100\n",
            "391/391 [==============================] - 6s 15ms/step - loss: 0.3594 - accuracy: 0.8834\n",
            "Epoch 33/100\n",
            "391/391 [==============================] - 6s 15ms/step - loss: 0.3607 - accuracy: 0.8801\n",
            "Epoch 34/100\n",
            "391/391 [==============================] - 6s 15ms/step - loss: 0.3546 - accuracy: 0.8841\n",
            "Epoch 35/100\n",
            "391/391 [==============================] - 6s 15ms/step - loss: 0.3418 - accuracy: 0.8894\n",
            "Epoch 36/100\n",
            "391/391 [==============================] - 6s 15ms/step - loss: 0.3442 - accuracy: 0.8884\n",
            "Epoch 37/100\n",
            "391/391 [==============================] - 6s 15ms/step - loss: 0.3219 - accuracy: 0.8939\n",
            "Epoch 38/100\n",
            "391/391 [==============================] - 6s 15ms/step - loss: 0.3219 - accuracy: 0.8943\n",
            "Epoch 39/100\n",
            "391/391 [==============================] - 6s 15ms/step - loss: 0.3265 - accuracy: 0.8931\n",
            "Epoch 40/100\n",
            "391/391 [==============================] - 6s 15ms/step - loss: 0.3066 - accuracy: 0.8995\n",
            "Epoch 41/100\n",
            "391/391 [==============================] - 6s 15ms/step - loss: 0.3050 - accuracy: 0.9001\n",
            "Epoch 42/100\n",
            "391/391 [==============================] - 6s 15ms/step - loss: 0.2949 - accuracy: 0.9020\n",
            "Epoch 43/100\n",
            "391/391 [==============================] - 6s 15ms/step - loss: 0.3005 - accuracy: 0.9001\n",
            "Epoch 44/100\n",
            "391/391 [==============================] - 6s 15ms/step - loss: 0.3084 - accuracy: 0.9004\n",
            "Epoch 45/100\n",
            "391/391 [==============================] - 6s 15ms/step - loss: 0.2934 - accuracy: 0.9013\n",
            "Epoch 46/100\n",
            "391/391 [==============================] - 6s 15ms/step - loss: 0.2915 - accuracy: 0.9043\n",
            "Epoch 47/100\n",
            "391/391 [==============================] - 6s 15ms/step - loss: 0.2881 - accuracy: 0.9068\n",
            "Epoch 48/100\n",
            "391/391 [==============================] - 6s 15ms/step - loss: 0.2917 - accuracy: 0.9061\n",
            "Epoch 49/100\n",
            "391/391 [==============================] - 6s 15ms/step - loss: 0.2874 - accuracy: 0.9052\n",
            "Epoch 50/100\n",
            "391/391 [==============================] - 6s 15ms/step - loss: 0.2883 - accuracy: 0.9036\n",
            "Epoch 51/100\n",
            "391/391 [==============================] - 6s 15ms/step - loss: 0.2827 - accuracy: 0.9082\n",
            "Epoch 52/100\n",
            "391/391 [==============================] - 6s 15ms/step - loss: 0.2787 - accuracy: 0.9087\n",
            "Epoch 53/100\n",
            "391/391 [==============================] - 6s 15ms/step - loss: 0.2686 - accuracy: 0.9125\n",
            "Epoch 54/100\n",
            "391/391 [==============================] - 6s 15ms/step - loss: 0.2644 - accuracy: 0.9122\n",
            "Epoch 55/100\n",
            "391/391 [==============================] - 6s 15ms/step - loss: 0.2703 - accuracy: 0.9137\n",
            "Epoch 56/100\n",
            "391/391 [==============================] - 6s 15ms/step - loss: 0.2661 - accuracy: 0.9130\n",
            "Epoch 57/100\n",
            "391/391 [==============================] - 6s 15ms/step - loss: 0.2635 - accuracy: 0.9131\n",
            "Epoch 58/100\n",
            "391/391 [==============================] - 6s 15ms/step - loss: 0.2682 - accuracy: 0.9131\n",
            "Epoch 59/100\n",
            "391/391 [==============================] - 6s 15ms/step - loss: 0.2613 - accuracy: 0.9139\n",
            "Epoch 60/100\n",
            "391/391 [==============================] - 6s 15ms/step - loss: 0.2602 - accuracy: 0.9142\n",
            "Epoch 61/100\n",
            "391/391 [==============================] - 6s 15ms/step - loss: 0.2560 - accuracy: 0.9164\n",
            "Epoch 62/100\n",
            "391/391 [==============================] - 6s 15ms/step - loss: 0.2554 - accuracy: 0.9154\n",
            "Epoch 63/100\n",
            "391/391 [==============================] - 6s 15ms/step - loss: 0.2609 - accuracy: 0.9159\n",
            "Epoch 64/100\n",
            "391/391 [==============================] - 6s 15ms/step - loss: 0.2537 - accuracy: 0.9185\n",
            "Epoch 65/100\n",
            "391/391 [==============================] - 6s 15ms/step - loss: 0.2621 - accuracy: 0.9156\n",
            "Epoch 66/100\n",
            "391/391 [==============================] - 6s 15ms/step - loss: 0.2486 - accuracy: 0.9177\n",
            "Epoch 67/100\n",
            "391/391 [==============================] - 6s 15ms/step - loss: 0.2479 - accuracy: 0.9201\n",
            "Epoch 68/100\n",
            "391/391 [==============================] - 6s 15ms/step - loss: 0.2438 - accuracy: 0.9215\n",
            "Epoch 69/100\n",
            "391/391 [==============================] - 6s 15ms/step - loss: 0.2537 - accuracy: 0.9172\n",
            "Epoch 70/100\n",
            "391/391 [==============================] - 6s 15ms/step - loss: 0.2554 - accuracy: 0.9155\n",
            "Epoch 71/100\n",
            "391/391 [==============================] - 6s 15ms/step - loss: 0.2445 - accuracy: 0.9204\n",
            "Epoch 72/100\n",
            "391/391 [==============================] - 6s 15ms/step - loss: 0.2417 - accuracy: 0.9206\n",
            "Epoch 73/100\n",
            "391/391 [==============================] - 6s 15ms/step - loss: 0.2443 - accuracy: 0.9224\n",
            "Epoch 74/100\n",
            "391/391 [==============================] - 6s 15ms/step - loss: 0.2410 - accuracy: 0.9205\n",
            "Epoch 75/100\n",
            "391/391 [==============================] - 6s 15ms/step - loss: 0.2458 - accuracy: 0.9204\n",
            "Epoch 76/100\n",
            "391/391 [==============================] - 6s 15ms/step - loss: 0.2429 - accuracy: 0.9191\n",
            "Epoch 77/100\n",
            "391/391 [==============================] - 6s 15ms/step - loss: 0.2416 - accuracy: 0.9228\n",
            "Epoch 78/100\n",
            "391/391 [==============================] - 6s 15ms/step - loss: 0.2311 - accuracy: 0.9256\n",
            "Epoch 79/100\n",
            "391/391 [==============================] - 6s 15ms/step - loss: 0.2317 - accuracy: 0.9247\n",
            "Epoch 80/100\n",
            "391/391 [==============================] - 6s 15ms/step - loss: 0.2395 - accuracy: 0.9215\n",
            "Epoch 81/100\n",
            "391/391 [==============================] - 6s 15ms/step - loss: 0.2302 - accuracy: 0.9259\n",
            "Epoch 82/100\n",
            "391/391 [==============================] - 6s 15ms/step - loss: 0.2322 - accuracy: 0.9234\n",
            "Epoch 83/100\n",
            "391/391 [==============================] - 6s 15ms/step - loss: 0.2357 - accuracy: 0.9210\n",
            "Epoch 84/100\n",
            "391/391 [==============================] - 6s 15ms/step - loss: 0.2323 - accuracy: 0.9243\n",
            "Epoch 85/100\n",
            "391/391 [==============================] - 6s 15ms/step - loss: 0.2277 - accuracy: 0.9265\n",
            "Epoch 86/100\n",
            "391/391 [==============================] - 6s 15ms/step - loss: 0.2327 - accuracy: 0.9256\n",
            "Epoch 87/100\n",
            "391/391 [==============================] - 6s 15ms/step - loss: 0.2268 - accuracy: 0.9262\n",
            "Epoch 88/100\n",
            "391/391 [==============================] - 6s 15ms/step - loss: 0.2302 - accuracy: 0.9255\n",
            "Epoch 89/100\n",
            "391/391 [==============================] - 6s 15ms/step - loss: 0.2323 - accuracy: 0.9239\n",
            "Epoch 90/100\n",
            "391/391 [==============================] - 6s 15ms/step - loss: 0.2268 - accuracy: 0.9266\n",
            "Epoch 91/100\n",
            "391/391 [==============================] - 6s 15ms/step - loss: 0.2254 - accuracy: 0.9283\n",
            "Epoch 92/100\n",
            "391/391 [==============================] - 6s 15ms/step - loss: 0.2185 - accuracy: 0.9293\n",
            "Epoch 93/100\n",
            "391/391 [==============================] - 6s 15ms/step - loss: 0.2264 - accuracy: 0.9259\n",
            "Epoch 94/100\n",
            "391/391 [==============================] - 6s 15ms/step - loss: 0.2296 - accuracy: 0.9267\n",
            "Epoch 95/100\n",
            "391/391 [==============================] - 6s 15ms/step - loss: 0.2257 - accuracy: 0.9268\n",
            "Epoch 96/100\n",
            "391/391 [==============================] - 6s 15ms/step - loss: 0.2240 - accuracy: 0.9282\n",
            "Epoch 97/100\n",
            "391/391 [==============================] - 6s 15ms/step - loss: 0.2214 - accuracy: 0.9300\n",
            "Epoch 98/100\n",
            "391/391 [==============================] - 6s 15ms/step - loss: 0.2255 - accuracy: 0.9273\n",
            "Epoch 99/100\n",
            "391/391 [==============================] - 6s 15ms/step - loss: 0.2222 - accuracy: 0.9283\n",
            "Epoch 100/100\n",
            "391/391 [==============================] - 6s 15ms/step - loss: 0.2147 - accuracy: 0.9304\n"
          ],
          "name": "stdout"
        },
        {
          "output_type": "execute_result",
          "data": {
            "text/plain": [
              "<keras.callbacks.History at 0x7ff80027c150>"
            ]
          },
          "metadata": {
            "tags": []
          },
          "execution_count": 7
        }
      ]
    },
    {
      "cell_type": "code",
      "metadata": {
        "colab": {
          "base_uri": "https://localhost:8080/"
        },
        "id": "nwtPw70g7OHY",
        "outputId": "2941c20d-2ec4-438f-e598-8d82b04189f6"
      },
      "source": [
        "scores = model.evaluate(X_test, y_test, verbose=0)\n",
        "print(\"Accuracy: %.2f%%\" % (scores[1]*100))"
      ],
      "execution_count": 8,
      "outputs": [
        {
          "output_type": "stream",
          "text": [
            "Accuracy: 76.62%\n"
          ],
          "name": "stdout"
        }
      ]
    }
  ]
}